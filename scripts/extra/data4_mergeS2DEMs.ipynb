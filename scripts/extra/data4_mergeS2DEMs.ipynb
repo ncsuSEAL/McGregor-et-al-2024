{
 "metadata": {
  "language_info": {
   "codemirror_mode": {
    "name": "ipython",
    "version": 3
   },
   "file_extension": ".py",
   "mimetype": "text/x-python",
   "name": "python",
   "nbconvert_exporter": "python",
   "pygments_lexer": "ipython3",
   "version": "3.8.3"
  },
  "orig_nbformat": 2,
  "kernelspec": {
   "name": "python383jvsc74a57bd042d92b0587bf7fa4a47fa2cd177bcee6ea3d84716aaa91183a7f9fe1bedab59a",
   "display_name": "Python 3.8.3 64-bit"
  }
 },
 "nbformat": 4,
 "nbformat_minor": 2,
 "cells": [
  {
   "cell_type": "code",
   "execution_count": 1,
   "metadata": {},
   "outputs": [],
   "source": [
    "import numpy as np\n",
    "import matplotlib.pyplot as plt\n",
    "import os, glob\n",
    "from osgeo import gdal"
   ]
  },
  {
   "cell_type": "code",
   "execution_count": 9,
   "metadata": {},
   "outputs": [
    {
     "output_type": "execute_result",
     "data": {
      "text/plain": [
       "['/Volumes/SEAL/IanMcGregor/Sen2Cor-02.09.00-Linux64/srtm_DEMs/srtm_55_09.tif',\n",
       " '/Volumes/SEAL/IanMcGregor/Sen2Cor-02.09.00-Linux64/srtm_DEMs/srtm_56_07.tif',\n",
       " '/Volumes/SEAL/IanMcGregor/Sen2Cor-02.09.00-Linux64/srtm_DEMs/srtm_57_08.tif',\n",
       " '/Volumes/SEAL/IanMcGregor/Sen2Cor-02.09.00-Linux64/srtm_DEMs/srtm_57_09.tif',\n",
       " '/Volumes/SEAL/IanMcGregor/Sen2Cor-02.09.00-Linux64/srtm_DEMs/srtm_57_07.tif',\n",
       " '/Volumes/SEAL/IanMcGregor/Sen2Cor-02.09.00-Linux64/srtm_DEMs/srtm_55_07.tif',\n",
       " '/Volumes/SEAL/IanMcGregor/Sen2Cor-02.09.00-Linux64/srtm_DEMs/srtm_55_08.tif',\n",
       " '/Volumes/SEAL/IanMcGregor/Sen2Cor-02.09.00-Linux64/srtm_DEMs/srtm_56_09.tif',\n",
       " '/Volumes/SEAL/IanMcGregor/Sen2Cor-02.09.00-Linux64/srtm_DEMs/srtm_56_08.tif']"
      ]
     },
     "metadata": {},
     "execution_count": 9
    }
   ],
   "source": [
    "files_to_mosaic = glob.glob('/Volumes/SEAL/IanMcGregor/Sen2Cor-02.09.00-Linux64/srtm_DEMs/*.tif')\n",
    "files_to_mosaic"
   ]
  },
  {
   "cell_type": "code",
   "execution_count": 10,
   "metadata": {},
   "outputs": [
    {
     "output_type": "stream",
     "name": "stdout",
     "text": [
      "/Volumes/SEAL/IanMcGregor/Sen2Cor-02.09.00-Linux64/srtm_DEMs/srtm_55_09.tif /Volumes/SEAL/IanMcGregor/Sen2Cor-02.09.00-Linux64/srtm_DEMs/srtm_56_07.tif /Volumes/SEAL/IanMcGregor/Sen2Cor-02.09.00-Linux64/srtm_DEMs/srtm_57_08.tif /Volumes/SEAL/IanMcGregor/Sen2Cor-02.09.00-Linux64/srtm_DEMs/srtm_57_09.tif /Volumes/SEAL/IanMcGregor/Sen2Cor-02.09.00-Linux64/srtm_DEMs/srtm_57_07.tif /Volumes/SEAL/IanMcGregor/Sen2Cor-02.09.00-Linux64/srtm_DEMs/srtm_55_07.tif /Volumes/SEAL/IanMcGregor/Sen2Cor-02.09.00-Linux64/srtm_DEMs/srtm_55_08.tif /Volumes/SEAL/IanMcGregor/Sen2Cor-02.09.00-Linux64/srtm_DEMs/srtm_56_09.tif /Volumes/SEAL/IanMcGregor/Sen2Cor-02.09.00-Linux64/srtm_DEMs/srtm_56_08.tif\n"
     ]
    }
   ],
   "source": [
    "files_string = \" \".join(files_to_mosaic)\n",
    "print(files_string)"
   ]
  },
  {
   "cell_type": "code",
   "execution_count": 11,
   "metadata": {},
   "outputs": [
    {
     "output_type": "stream",
     "name": "stdout",
     "text": [
      "0...10...20...30...40...50...60...70...80...90...100 - done.\n\n"
     ]
    }
   ],
   "source": [
    "command = \"gdal_merge.py -o /Volumes/SEAL/IanMcGregor/Sen2Cor-02.09.00-Linux64/srtm_DEMs/mergedDEM.tif -of gtiff \" + files_string\n",
    "print(os.popen(command).read())"
   ]
  },
  {
   "cell_type": "code",
   "execution_count": null,
   "metadata": {},
   "outputs": [],
   "source": []
  }
 ]
}